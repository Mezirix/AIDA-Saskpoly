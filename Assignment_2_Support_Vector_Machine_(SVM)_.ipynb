{
  "nbformat": 4,
  "nbformat_minor": 0,
  "metadata": {
    "colab": {
      "provenance": [],
      "authorship_tag": "ABX9TyMoFm5lqnbbGomo9y0bIoSK",
      "include_colab_link": true
    },
    "kernelspec": {
      "name": "python3",
      "display_name": "Python 3"
    },
    "language_info": {
      "name": "python"
    }
  },
  "cells": [
    {
      "cell_type": "markdown",
      "metadata": {
        "id": "view-in-github",
        "colab_type": "text"
      },
      "source": [
        "<a href=\"https://colab.research.google.com/github/Mezirix/AIDA-Saskpoly/blob/main/Assignment_2_Support_Vector_Machine_(SVM)_.ipynb\" target=\"_parent\"><img src=\"https://colab.research.google.com/assets/colab-badge.svg\" alt=\"Open In Colab\"/></a>"
      ]
    },
    {
      "cell_type": "markdown",
      "source": [
        "# Group Members\n",
        "\n",
        "* Idogesit Utah\n",
        "* Evelyn Emoedume\n",
        "* Christiantus Anyanwu"
      ],
      "metadata": {
        "id": "_DITdWUEa8Di"
      }
    },
    {
      "cell_type": "markdown",
      "source": [
        "# Objective:\n",
        "The objective of this assignment is to apply Support Vector Machine (SVM) and Decision Tree models, on two different datasets - the Titanic dataset and the Diabetes dataset. The focus is on training these models, comparing their test accuracies, and exploring the feature importance using the Decision Tree model.\n"
      ],
      "metadata": {
        "id": "iSL7L1KzxqNX"
      }
    },
    {
      "cell_type": "markdown",
      "source": [
        "* * Task 1: Titanic Dataset"
      ],
      "metadata": {
        "id": "mRGs0hr5KlpK"
      }
    },
    {
      "cell_type": "code",
      "execution_count": 25,
      "metadata": {
        "id": "bJZOGch_rwVl"
      },
      "outputs": [],
      "source": [
        "# Imports the necessary Libraries\n",
        "import pandas as pd\n",
        "from sklearn.model_selection import train_test_split\n",
        "from sklearn.svm import SVC\n",
        "from sklearn.metrics import accuracy_score\n",
        "from sklearn.tree import DecisionTreeClassifier\n",
        "from sklearn.metrics import accuracy_score\n",
        "from sklearn.feature_selection import SelectFromModel\n",
        "import matplotlib.pyplot as plt\n",
        "\n",
        "\n"
      ]
    },
    {
      "cell_type": "code",
      "source": [
        "# Load dataset\n",
        "titanic_df = pd.read_csv('titanic.csv')"
      ],
      "metadata": {
        "id": "SlvuCD9lLKAC"
      },
      "execution_count": 2,
      "outputs": []
    },
    {
      "cell_type": "markdown",
      "source": [
        "Preprocess the Data\n",
        "\n",
        "Handle missing values (e.g., fill or drop).\n",
        "Encode categorical variables (e.g., using pd.get_dummies for one-hot encoding)."
      ],
      "metadata": {
        "id": "Z9qHsiWuM7EK"
      }
    },
    {
      "cell_type": "code",
      "source": [
        "# Fill missing values\n",
        "titanic_df['Age'].fillna(titanic_df['Age'].median(), inplace=True)\n",
        "titanic_df['Embarked'].fillna(titanic_df['Embarked'].mode()[0], inplace=True)\n",
        "\n",
        "# Encode categorical variables\n",
        "titanic_df = pd.get_dummies(titanic_df, columns=['Sex', 'Embarked'], drop_first=True)\n"
      ],
      "metadata": {
        "colab": {
          "base_uri": "https://localhost:8080/"
        },
        "id": "NxX3ME2UPZPu",
        "outputId": "67b29f04-98b8-4c99-921d-0c53bb021307"
      },
      "execution_count": 3,
      "outputs": [
        {
          "output_type": "stream",
          "name": "stderr",
          "text": [
            "<ipython-input-3-5660a25e77fe>:2: FutureWarning: A value is trying to be set on a copy of a DataFrame or Series through chained assignment using an inplace method.\n",
            "The behavior will change in pandas 3.0. This inplace method will never work because the intermediate object on which we are setting values always behaves as a copy.\n",
            "\n",
            "For example, when doing 'df[col].method(value, inplace=True)', try using 'df.method({col: value}, inplace=True)' or df[col] = df[col].method(value) instead, to perform the operation inplace on the original object.\n",
            "\n",
            "\n",
            "  titanic_df['Age'].fillna(titanic_df['Age'].median(), inplace=True)\n",
            "<ipython-input-3-5660a25e77fe>:3: FutureWarning: A value is trying to be set on a copy of a DataFrame or Series through chained assignment using an inplace method.\n",
            "The behavior will change in pandas 3.0. This inplace method will never work because the intermediate object on which we are setting values always behaves as a copy.\n",
            "\n",
            "For example, when doing 'df[col].method(value, inplace=True)', try using 'df.method({col: value}, inplace=True)' or df[col] = df[col].method(value) instead, to perform the operation inplace on the original object.\n",
            "\n",
            "\n",
            "  titanic_df['Embarked'].fillna(titanic_df['Embarked'].mode()[0], inplace=True)\n"
          ]
        }
      ]
    },
    {
      "cell_type": "markdown",
      "source": [
        "# Split the Dataset"
      ],
      "metadata": {
        "id": "g3P_DFm4Pytu"
      }
    },
    {
      "cell_type": "code",
      "source": [
        "\n",
        "X = titanic_df.drop(['Survived', 'Name', 'Ticket', 'Cabin'], axis=1)\n",
        "y = titanic_df['Survived']\n",
        "X_train, X_test, y_train, y_test = train_test_split(X, y, test_size=0.3, random_state=42)\n"
      ],
      "metadata": {
        "id": "kP_yEmrDPw3q"
      },
      "execution_count": 5,
      "outputs": []
    },
    {
      "cell_type": "markdown",
      "source": [
        "# Train an SVM Model"
      ],
      "metadata": {
        "id": "28NIGNLQQFWC"
      }
    },
    {
      "cell_type": "code",
      "source": [
        "svm_model = SVC()\n",
        "svm_model.fit(X_train, y_train)\n",
        "svm_pred = svm_model.predict(X_test)\n",
        "svm_accuracy = accuracy_score(y_test, svm_pred)\n"
      ],
      "metadata": {
        "id": "7540_3a_QHoE"
      },
      "execution_count": 8,
      "outputs": []
    },
    {
      "cell_type": "markdown",
      "source": [
        "# Train a Decision Tree Model"
      ],
      "metadata": {
        "id": "9uPdOxRdQciq"
      }
    },
    {
      "cell_type": "code",
      "source": [
        "tree_model = DecisionTreeClassifier(random_state=42)\n",
        "tree_model.fit(X_train, y_train)\n",
        "tree_pred = tree_model.predict(X_test)\n",
        "tree_accuracy = accuracy_score(y_test, tree_pred)"
      ],
      "metadata": {
        "id": "-mKX_a_iQiOa"
      },
      "execution_count": 9,
      "outputs": []
    },
    {
      "cell_type": "markdown",
      "source": [
        "# Compare Test Accuracies"
      ],
      "metadata": {
        "id": "HOIgWLiZQtuJ"
      }
    },
    {
      "cell_type": "code",
      "source": [
        "print(f\"SVM Test Accuracy: {svm_accuracy}\")\n",
        "print(f\"Decision Tree Test Accuracy: {tree_accuracy}\")\n"
      ],
      "metadata": {
        "colab": {
          "base_uri": "https://localhost:8080/"
        },
        "id": "Bx0B4-azQ1F1",
        "outputId": "ba2040a9-b3d5-49c3-fa36-d01cb95512b2"
      },
      "execution_count": 10,
      "outputs": [
        {
          "output_type": "stream",
          "name": "stdout",
          "text": [
            "SVM Test Accuracy: 0.6082089552238806\n",
            "Decision Tree Test Accuracy: 0.7574626865671642\n"
          ]
        }
      ]
    },
    {
      "cell_type": "markdown",
      "source": [
        "Analyze Feature Importance for Diabetes Dataset"
      ],
      "metadata": {
        "id": "3LsomY7sEHor"
      }
    },
    {
      "cell_type": "code",
      "source": [
        "# Feature importance using Decision Tree\n",
        "\n",
        "feature_importances_titanic = tree_model.feature_importances_\n",
        "features_titanic = pd.Series(feature_importances_titanic, index=feature_names).sort_values(ascending=False)\n",
        "\n",
        "# Plotting\n",
        "features_titanic.plot(kind='bar', title='Feature Importance in Titanic Dataset')\n",
        "plt.show()"
      ],
      "metadata": {
        "colab": {
          "base_uri": "https://localhost:8080/",
          "height": 527
        },
        "id": "vczwgmfhBDcB",
        "outputId": "1aec30c4-bf67-476e-974d-fdd10255f16d"
      },
      "execution_count": 34,
      "outputs": [
        {
          "output_type": "display_data",
          "data": {
            "text/plain": [
              "<Figure size 640x480 with 1 Axes>"
            ],
            "image/png": "[encoded data removed]"
          },
          "metadata": {}
        }
      ]
    },
    {
      "cell_type": "markdown",
      "source": [
        "# Task 2: Diabetes Dataset"
      ],
      "metadata": {
        "id": "4OUFnwqiRJgK"
      }
    },
    {
      "cell_type": "markdown",
      "source": [
        "\n",
        "\n",
        "1.   Load the Diabetes Dataset\n"
      ],
      "metadata": {
        "id": "TEmpYM4PRSyP"
      }
    },
    {
      "cell_type": "code",
      "source": [
        "diabetes_df = pd.read_csv('diabetes.csv')\n"
      ],
      "metadata": {
        "id": "9aaetdplRQnX"
      },
      "execution_count": 20,
      "outputs": []
    },
    {
      "cell_type": "markdown",
      "source": [
        "2. Preprocess the Data\n",
        "\n",
        "Check for missing values.\n",
        "We Performed some necessary preprocessing."
      ],
      "metadata": {
        "id": "41SuhBDORe0Q"
      }
    },
    {
      "cell_type": "markdown",
      "source": [
        "3. * Split the dataset into training and testing sets using a 70-30 ratio and a random state of 42."
      ],
      "metadata": {
        "id": "DkDU5TNdVrhG"
      }
    },
    {
      "cell_type": "code",
      "source": [
        "X = diabetes_df.drop('Outcome', axis=1)\n",
        "y = diabetes_df['Outcome']\n",
        "X_train, X_test, y_train, y_test = train_test_split(X, y, test_size=0.3, random_state=42)\n"
      ],
      "metadata": {
        "id": "qCzdxOr9RoDy"
      },
      "execution_count": 12,
      "outputs": []
    },
    {
      "cell_type": "markdown",
      "source": [
        "4. Train an SVM Model"
      ],
      "metadata": {
        "id": "wn5-XRDoVi8D"
      }
    },
    {
      "cell_type": "code",
      "source": [
        "svm_model_diabetes = SVC()\n",
        "svm_model_diabetes.fit(X_train, y_train)\n",
        "svm_pred_diabetes = svm_model_diabetes.predict(X_test)\n",
        "svm_accuracy_diabetes = accuracy_score(y_test, svm_pred_diabetes)\n"
      ],
      "metadata": {
        "id": "nxQzIGsKWFfH"
      },
      "execution_count": 13,
      "outputs": []
    },
    {
      "cell_type": "markdown",
      "source": [
        "5. Train a Decision Tree Model"
      ],
      "metadata": {
        "id": "nBOufKv1WOEV"
      }
    },
    {
      "cell_type": "code",
      "source": [
        "tree_model_diabetes = DecisionTreeClassifier(random_state=42)\n",
        "tree_model_diabetes.fit(X_train, y_train)\n",
        "tree_pred_diabetes = tree_model_diabetes.predict(X_test)\n",
        "tree_accuracy_diabetes = accuracy_score(y_test, tree_pred_diabetes)\n"
      ],
      "metadata": {
        "id": "8Vj7LZ9FWjNy"
      },
      "execution_count": 14,
      "outputs": []
    },
    {
      "cell_type": "markdown",
      "source": [
        "6. Compare Test Accuracies"
      ],
      "metadata": {
        "id": "6O2S_-50Wsci"
      }
    },
    {
      "cell_type": "code",
      "source": [
        "print(f\"SVM Test Accuracy (Diabetes): {svm_accuracy_diabetes}\")\n",
        "print(f\"Decision Tree Test Accuracy (Diabetes): {tree_accuracy_diabetes}\")\n"
      ],
      "metadata": {
        "colab": {
          "base_uri": "https://localhost:8080/"
        },
        "id": "5fQIcp0EWuQB",
        "outputId": "57dca14b-7ebb-44fd-cdd3-6f50e588b6ae"
      },
      "execution_count": 15,
      "outputs": [
        {
          "output_type": "stream",
          "name": "stdout",
          "text": [
            "SVM Test Accuracy (Diabetes): 0.7359307359307359\n",
            "Decision Tree Test Accuracy (Diabetes): 0.7012987012987013\n"
          ]
        }
      ]
    },
    {
      "cell_type": "markdown",
      "source": [
        "* Task 3: Feature Importance Analysis"
      ],
      "metadata": {
        "id": "Wm-t4sSTXHbi"
      }
    },
    {
      "cell_type": "markdown",
      "source": [
        "1. Feature Importance in Titanic Dataset"
      ],
      "metadata": {
        "id": "gnmGlQbTXM1y"
      }
    },
    {
      "cell_type": "code",
      "source": [
        "# Assuming 'X_train' was the DataFrame used for training the tree_model\n",
        "feature_importance_titanic = tree_model.feature_importances_\n",
        "\n",
        "# Get the feature names used during training.\n",
        "feature_names = tree_model.feature_names_in_\n",
        "\n",
        "important_features_titanic = pd.Series(feature_importance_titanic, index=feature_names).sort_values(ascending=False)\n",
        "\n",
        "print(\"Feature Importances (Titanic Dataset):\")\n",
        "print(important_features_titanic)\n"
      ],
      "metadata": {
        "colab": {
          "base_uri": "https://localhost:8080/"
        },
        "id": "TSbUk8usXK1i",
        "outputId": "24e99788-ed3e-4db0-d415-37feeb06b825"
      },
      "execution_count": 18,
      "outputs": [
        {
          "output_type": "stream",
          "name": "stdout",
          "text": [
            "Feature Importances (Titanic Dataset):\n",
            "Sex_male       0.283660\n",
            "Fare           0.186246\n",
            "PassengerId    0.181643\n",
            "Age            0.163476\n",
            "Pclass         0.090798\n",
            "SibSp          0.042993\n",
            "Parch          0.029411\n",
            "Embarked_S     0.011352\n",
            "Embarked_Q     0.010422\n",
            "dtype: float64\n"
          ]
        }
      ]
    },
    {
      "cell_type": "markdown",
      "source": [
        "* Feature Importance in Diabetes Dataset"
      ],
      "metadata": {
        "id": "jJByVzH-ZqDk"
      }
    },
    {
      "cell_type": "code",
      "source": [
        "feature_importance_diabetes = tree_model_diabetes.feature_importances_\n",
        "important_features_diabetes = pd.Series(feature_importance_diabetes, index=X.columns).sort_values(ascending=False)\n",
        "print(\"Feature Importances (Diabetes Dataset):\")\n",
        "print(important_features_diabetes)\n"
      ],
      "metadata": {
        "colab": {
          "base_uri": "https://localhost:8080/"
        },
        "id": "_kpCZPmpZtmj",
        "outputId": "247ef671-1422-49d0-def4-1f4b4aa8e70a"
      },
      "execution_count": 19,
      "outputs": [
        {
          "output_type": "stream",
          "name": "stdout",
          "text": [
            "Feature Importances (Diabetes Dataset):\n",
            "Glucose                     0.356937\n",
            "BMI                         0.186479\n",
            "Age                         0.134134\n",
            "BloodPressure               0.097345\n",
            "DiabetesPedigreeFunction    0.096871\n",
            "SkinThickness               0.061428\n",
            "Insulin                     0.039552\n",
            "Pregnancies                 0.027255\n",
            "dtype: float64\n"
          ]
        }
      ]
    },
    {
      "cell_type": "markdown",
      "source": [
        "Analyze Feature Importance for Diabetes Dataset"
      ],
      "metadata": {
        "id": "iUmse0OZELZn"
      }
    },
    {
      "cell_type": "code",
      "source": [
        "# Feature importance using Decision Tree\n",
        "feature_importances_diabetes = tree_model_diabetes.feature_importances_\n",
        "features_diabetes = pd.Series(feature_importances_diabetes, index=X.columns).sort_values(ascending=False)\n",
        "# Plotting\n",
        "features_diabetes.plot(kind='bar', title='Feature Importance in Diabetes Dataset')\n",
        "plt.show()\n"
      ],
      "metadata": {
        "colab": {
          "base_uri": "https://localhost:8080/",
          "height": 619
        },
        "id": "CgKPfHRJ_iXY",
        "outputId": "4203a253-2015-4f50-d92a-d37eb632817e"
      },
      "execution_count": 26,
      "outputs": [
        {
          "output_type": "display_data",
          "data": {
            "text/plain": [
              "<Figure size 640x480 with 1 Axes>"
            ],
            "image/png": "[encoded data removed]"
          },
          "metadata": {}
        }
      ]
    }
  ]
}